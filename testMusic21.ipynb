{
 "cells": [
  {
   "cell_type": "markdown",
   "metadata": {},
   "source": [
    "# Welcome!"
   ]
  },
  {
   "cell_type": "markdown",
   "metadata": {},
   "source": [
    "To get started, you first need to make sure that everything is properly set up (versions, dependencies, etc)\n",
    "Obviously you now have Jupyter Notebook installed and running, so just ensure that you have launched it in the proper directory. Any directory is fine, you just need to choose whichever one you like and stick to it. \n",
    " 1. Python 3: Make sure that you have the latest version of python installed and selected (version >= 3)\n",
    " 2. music21: Download and set up the $music21$ library from MIT's page according to these instructions: http://web.mit.edu/music21/doc/installing/install.html\n",
    " 3. MusicXML: In order to generate the score visualizations, you'll have to download a viewing software that depends on $MusicXML$ on the back end. I recommend using MuseScore (https://musescore.org/One), which is lightweight and free.\n",
    " "
   ]
  },
  {
   "cell_type": "code",
   "execution_count": 1,
   "metadata": {
    "collapsed": true
   },
   "outputs": [],
   "source": [
    "from music21 import *"
   ]
  },
  {
   "cell_type": "code",
   "execution_count": 2,
   "metadata": {
    "collapsed": false
   },
   "outputs": [],
   "source": [
    "s = converter.parse(\"tinynotation: 3/4 c4 d8 f g a g f#\")"
   ]
  },
  {
   "cell_type": "code",
   "execution_count": 3,
   "metadata": {
    "collapsed": false
   },
   "outputs": [
    {
     "data": {
      "image/png": "[encoded data removed]",
      "text/plain": [
       "<music21.ipython21.objects.IPythonPNGObject at 0x118a27518>"
      ]
     },
     "execution_count": 3,
     "metadata": {},
     "output_type": "execute_result"
    }
   ],
   "source": [
    "s.show()"
   ]
  },
  {
   "cell_type": "code",
   "execution_count": 4,
   "metadata": {
    "collapsed": false
   },
   "outputs": [
    {
     "data": {
      "image/png": "[encoded data removed]",
      "text/plain": [
       "<music21.ipython21.objects.IPythonPNGObject at 0x118da1e10>"
      ]
     },
     "execution_count": 4,
     "metadata": {},
     "output_type": "execute_result"
    }
   ],
   "source": [
    "n = note.Note(\"D#3\")\n",
    "n.duration.type = 'half'\n",
    "n.show()"
   ]
  },
  {
   "cell_type": "code",
   "execution_count": 5,
   "metadata": {
    "collapsed": false
   },
   "outputs": [
    {
     "data": {
      "text/html": [
       "\n",
       "                <div id='midiPlayerDiv428'></div>\n",
       "                <link rel=\"stylesheet\" href=\"http://artusi.xyz/music21j/css/m21.css\" \n",
       "                    type=\"text/css\" />\n",
       "                <script>\n",
       "                require.config({\n",
       "                    paths: {'music21': 'http://artusi.xyz/music21j/src/music21'} \n",
       "                }); \n",
       "                require(['music21'], function() { \n",
       "                               mp = new music21.miditools.MidiPlayer();\n",
       "                               mp.addPlayer('#midiPlayerDiv428'); \n",
       "                               mp.base64Load('data:audio/midi;base64,TVRoZAAAAAYAAQABBABNVHJrAAAAVQD/AwAA4ABAAP9YBAMCGAiIAJA8WogAgDwAAJA+WoQAgD4AAJBBWoQAgEEAAJBDWoQAgEMAAJBFWoQAgEUAAJBDWoQAgEMAAJBCWoQAgEIAiAD/LwA='); \n",
       "                        });\n",
       "                </script>"
      ],
      "text/plain": [
       "<IPython.core.display.HTML object>"
      ]
     },
     "metadata": {},
     "output_type": "display_data"
    }
   ],
   "source": [
    "s.show('midi')"
   ]
  },
  {
   "cell_type": "markdown",
   "metadata": {},
   "source": [
    "# Define Classes"
   ]
  },
  {
   "cell_type": "code",
   "execution_count": 10,
   "metadata": {
    "collapsed": false
   },
   "outputs": [],
   "source": [
    "# Define Event Class\n",
    "class event(object):\n",
    "\n",
    "    def __init__(self,a,b):\n",
    "        self.pitch = a\n",
    "        self.duration = b\n",
    "    \n",
    "    # eventually, build conversion from \n",
    "    # pitch as ints\n",
    "    # duration as doubles (or something)\n",
    "    def toNote(self):\n",
    "        # this will include other subfunctions which handle conversion\n",
    "        n = note.Note(self.pitch)\n",
    "        n.duration.type = self.duration\n",
    "        return n"
   ]
  },
  {
   "cell_type": "code",
   "execution_count": 11,
   "metadata": {
    "collapsed": true
   },
   "outputs": [],
   "source": [
    "# Define Voice Class\n",
    "\n",
    "class voice(object):\n",
    "\n",
    "    def __init__(self,eventList):\n",
    "            self.events = eventList"
   ]
  },
  {
   "cell_type": "code",
   "execution_count": 12,
   "metadata": {
    "collapsed": true
   },
   "outputs": [],
   "source": [
    "# Define Score Class\n",
    "class score(object):\n",
    "    \n",
    "    def __init__(self,voiceList):\n",
    "        self.voices = voiceList"
   ]
  },
  {
   "cell_type": "code",
   "execution_count": 13,
   "metadata": {
    "collapsed": true
   },
   "outputs": [],
   "source": [
    "# Define Markov Chain Class\n",
    "class MarkovChain(object):\n",
    "    \n",
    "    def __init__(self,scoreList):\n",
    "        self.states = scoreList\n",
    "    \n",
    "    def nextState(state):\n",
    "        self.states()"
   ]
  },
  {
   "cell_type": "code",
   "execution_count": 14,
   "metadata": {
    "collapsed": false
   },
   "outputs": [
    {
     "name": "stdout",
     "output_type": "stream",
     "text": [
      "Variable           Type      Data/Info\n",
      "--------------------------------------\n",
      "MarkovChain        type      <class '__main__.MarkovChain'>\n",
      "abcFormat          module    <module 'music21.abcForma<...>1/abcFormat/__init__.py'>\n",
      "alpha              module    <module 'music21.alpha' f<...>sic21/alpha/__init__.py'>\n",
      "analysis           module    <module 'music21.analysis<...>21/analysis/__init__.py'>\n",
      "articulations      module    <module 'music21.articula<...>usic21/articulations.py'>\n",
      "audioSearch        module    <module 'music21.audioSea<...>audioSearch/__init__.py'>\n",
      "bar                module    <module 'music21.bar' fro<...>packages/music21/bar.py'>\n",
      "base               module    <module 'music21.base' fr<...>ackages/music21/base.py'>\n",
      "beam               module    <module 'music21.beam' fr<...>ackages/music21/beam.py'>\n",
      "braille            module    <module 'music21.braille'<...>c21/braille/__init__.py'>\n",
      "capella            module    <module 'music21.capella'<...>c21/capella/__init__.py'>\n",
      "chord              module    <module 'music21.chord' f<...>sic21/chord/__init__.py'>\n",
      "clef               module    <module 'music21.clef' fr<...>ackages/music21/clef.py'>\n",
      "common             module    <module 'music21.common' <...>ic21/common/__init__.py'>\n",
      "configure          module    <module 'music21.configur<...>es/music21/configure.py'>\n",
      "converter          module    <module 'music21.converte<...>1/converter/__init__.py'>\n",
      "corpus             module    <module 'music21.corpus' <...>ic21/corpus/__init__.py'>\n",
      "defaults           module    <module 'music21.defaults<...>ges/music21/defaults.py'>\n",
      "demos              module    <module 'music21.demos' f<...>sic21/demos/__init__.py'>\n",
      "derivation         module    <module 'music21.derivati<...>s/music21/derivation.py'>\n",
      "documentation      module    <module 'music21.document<...>cumentation/__init__.py'>\n",
      "duration           module    <module 'music21.duration<...>ges/music21/duration.py'>\n",
      "dynamics           module    <module 'music21.dynamics<...>ges/music21/dynamics.py'>\n",
      "editorial          module    <module 'music21.editoria<...>es/music21/editorial.py'>\n",
      "environment        module    <module 'music21.environm<...>/music21/environment.py'>\n",
      "event              type      <class '__main__.event'>\n",
      "exceptions21       module    <module 'music21.exceptio<...>music21/exceptions21.py'>\n",
      "expressions        module    <module 'music21.expressi<...>/music21/expressions.py'>\n",
      "features           module    <module 'music21.features<...>21/features/__init__.py'>\n",
      "figuredBass        module    <module 'music21.figuredB<...>figuredBass/__init__.py'>\n",
      "freezeThaw         module    <module 'music21.freezeTh<...>s/music21/freezeThaw.py'>\n",
      "graph              module    <module 'music21.graph' f<...>ckages/music21/graph.py'>\n",
      "harmony            module    <module 'music21.harmony'<...>ages/music21/harmony.py'>\n",
      "humdrum            module    <module 'music21.humdrum'<...>c21/humdrum/__init__.py'>\n",
      "instrument         module    <module 'music21.instrume<...>s/music21/instrument.py'>\n",
      "interval           module    <module 'music21.interval<...>ges/music21/interval.py'>\n",
      "ipython21          module    <module 'music21.ipython2<...>1/ipython21/__init__.py'>\n",
      "key                module    <module 'music21.key' fro<...>packages/music21/key.py'>\n",
      "languageExcerpts   module    <module 'music21.language<...>ageExcerpts/__init__.py'>\n",
      "layout             module    <module 'music21.layout' <...>kages/music21/layout.py'>\n",
      "lily               module    <module 'music21.lily' fr<...>usic21/lily/__init__.py'>\n",
      "mei                module    <module 'music21.mei' fro<...>music21/mei/__init__.py'>\n",
      "metadata           module    <module 'music21.metadata<...>21/metadata/__init__.py'>\n",
      "meter              module    <module 'music21.meter' f<...>ckages/music21/meter.py'>\n",
      "midi               module    <module 'music21.midi' fr<...>usic21/midi/__init__.py'>\n",
      "musedata           module    <module 'music21.musedata<...>21/musedata/__init__.py'>\n",
      "musicxml           module    <module 'music21.musicxml<...>21/musicxml/__init__.py'>\n",
      "n                  Note      <music21.note.Note D#>\n",
      "note               module    <module 'music21.note' fr<...>ackages/music21/note.py'>\n",
      "noteworthy         module    <module 'music21.notewort<...>/noteworthy/__init__.py'>\n",
      "omr                module    <module 'music21.omr' fro<...>music21/omr/__init__.py'>\n",
      "pitch              module    <module 'music21.pitch' f<...>ckages/music21/pitch.py'>\n",
      "repeat             module    <module 'music21.repeat' <...>kages/music21/repeat.py'>\n",
      "roman              module    <module 'music21.roman' f<...>ckages/music21/roman.py'>\n",
      "romanText          module    <module 'music21.romanTex<...>1/romanText/__init__.py'>\n",
      "s                  Part      <music21.stream.Part 0x1129f9dd8>\n",
      "scale              module    <module 'music21.scale' f<...>sic21/scale/__init__.py'>\n",
      "score              type      <class '__main__.score'>\n",
      "search             module    <module 'music21.search' <...>ic21/search/__init__.py'>\n",
      "serial             module    <module 'music21.serial' <...>kages/music21/serial.py'>\n",
      "sieve              module    <module 'music21.sieve' f<...>ckages/music21/sieve.py'>\n",
      "sites              module    <module 'music21.sites' f<...>ckages/music21/sites.py'>\n",
      "sorting            module    <module 'music21.sorting'<...>ages/music21/sorting.py'>\n",
      "spanner            module    <module 'music21.spanner'<...>ages/music21/spanner.py'>\n",
      "stream             module    <module 'music21.stream' <...>ic21/stream/__init__.py'>\n",
      "tempo              module    <module 'music21.tempo' f<...>ckages/music21/tempo.py'>\n",
      "test               module    <module 'music21.test' fr<...>usic21/test/__init__.py'>\n",
      "text               module    <module 'music21.text' fr<...>ackages/music21/text.py'>\n",
      "tie                module    <module 'music21.tie' fro<...>packages/music21/tie.py'>\n",
      "tinyNotation       module    <module 'music21.tinyNota<...>music21/tinyNotation.py'>\n",
      "tree               module    <module 'music21.tree' fr<...>usic21/tree/__init__.py'>\n",
      "variant            module    <module 'music21.variant'<...>ages/music21/variant.py'>\n",
      "vexflow            module    <module 'music21.vexflow'<...>c21/vexflow/__init__.py'>\n",
      "voice              type      <class '__main__.voice'>\n",
      "voiceLeading       module    <module 'music21.voiceLea<...>music21/voiceLeading.py'>\n",
      "volume             module    <module 'music21.volume' <...>kages/music21/volume.py'>\n"
     ]
    }
   ],
   "source": [
    "\n"
   ]
  },
  {
   "cell_type": "markdown",
   "metadata": {},
   "source": [
    "# Define Functions"
   ]
  },
  {
   "cell_type": "code",
   "execution_count": 9,
   "metadata": {
    "collapsed": false
   },
   "outputs": [
    {
     "ename": "SyntaxError",
     "evalue": "invalid syntax (<ipython-input-9-69a8469cb2fc>, line 24)",
     "output_type": "error",
     "traceback": [
      "\u001b[0;36m  File \u001b[0;32m\"<ipython-input-9-69a8469cb2fc>\"\u001b[0;36m, line \u001b[0;32m24\u001b[0m\n\u001b[0;31m    if (d conditions not met):\u001b[0m\n\u001b[0m                   ^\u001b[0m\n\u001b[0;31mSyntaxError\u001b[0m\u001b[0;31m:\u001b[0m invalid syntax\n"
     ]
    }
   ],
   "source": [
    "# Define Energy Function H(s)\n",
    "\n",
    "def ncFn(conditionals):\n",
    "    # nc = numberofi between1andn−1suchthat∆ei∆fi <0\n",
    "    return \n",
    "\n",
    "def N1Fn(conditionals):\n",
    "    # N1 = numberofi between1andn−1suchthatdi =di+1 anddi ∈{0,7,12}\n",
    "    return \n",
    "\n",
    "def N2Fn(conditionals):\n",
    "    # N2 = numberofi between1andn−1suchthat∆ei∆fi >0anddi+1 ∈{5,7,12} \n",
    "    return \n",
    "\n",
    "def N3Fn(conditionals):\n",
    "    # N3 = numberofi between1andn−1suchthat∆ei =0\n",
    "    return \n",
    "\n",
    "def N4Fn(conditionals):\n",
    "    # N4 = number of i between 1 and n such that |∆ei | ≥ 3.\n",
    "    return \n",
    "\n",
    "def H(score):\n",
    "    if (d conditions not met):\n",
    "        return inf\n",
    "    else:\n",
    "        # compute number conditions\n",
    "        nc = ncFn()\n",
    "        N1 = N1Fn()\n",
    "        N2 = N2Fn()\n",
    "        N3 = N3Fn()        \n",
    "        N4 = N4Fn()\n",
    "\n",
    "        energy = N1*q1 + N2*q2 + N3*q3 + N4*q4 + q5\n",
    "    return energy"
   ]
  },
  {
   "cell_type": "code",
   "execution_count": 71,
   "metadata": {
    "collapsed": false
   },
   "outputs": [
    {
     "data": {
      "image/png": "[encoded data removed]",
      "text/plain": [
       "<music21.ipython21.objects.IPythonPNGObject at 0x11831fa20>"
      ]
     },
     "execution_count": 71,
     "metadata": {},
     "output_type": "execute_result"
    }
   ],
   "source": [
    "# e = event(\"D#3\",'half')\n",
    "# n = e.toNote()\n",
    "# n.show()\n",
    "\n",
    "evts = [event('D#3','half'), event('F#3','half'), event('G#3','half')]\n",
    "v = voice(evts)\n",
    "v.events[1].pitch\n",
    "\n",
    "v.events[0].toNote().show()"
   ]
  },
  {
   "cell_type": "code",
   "execution_count": null,
   "metadata": {
    "collapsed": true
   },
   "outputs": [],
   "source": [
    "# The Metropolis Algorithm\n",
    "\n",
    "# Make score (list) with random initial values\n",
    "beta = 1\n",
    "E = MarkovChain()\n",
    "\n",
    "# loop until meets stationarity condition or over certain # of runs\n",
    "\n",
    "    # create next potential state \n",
    "\n",
    "    # evaluate potential state\n",
    "\n",
    "    # assign next state\n",
    "\n",
    "    # evaluate stationarity\n",
    "\n",
    "\n",
    "    \n",
    "    \n",
    "# compute and plot \"convergence\", time, etc\n",
    "    \n",
    "# convert resulting snapshots of the chain to format compatible with music21\n",
    "# visualize and play certain samples\n",
    "\n",
    "\n",
    "\n",
    "    \n"
   ]
  }
 ],
 "metadata": {
  "kernelspec": {
   "display_name": "Python 3",
   "language": "python",
   "name": "python3"
  },
  "language_info": {
   "codemirror_mode": {
    "name": "ipython",
    "version": 3
   },
   "file_extension": ".py",
   "mimetype": "text/x-python",
   "name": "python",
   "nbconvert_exporter": "python",
   "pygments_lexer": "ipython3",
   "version": "3.6.0"
  }
 },
 "nbformat": 4,
 "nbformat_minor": 2
}
